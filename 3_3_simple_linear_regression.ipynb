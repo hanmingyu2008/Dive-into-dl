{
 "cells": [
  {
   "cell_type": "markdown",
   "id": "816a57a0",
   "metadata": {
    "papermill": {
     "duration": 0.003882,
     "end_time": "2025-02-23T15:10:54.634983",
     "exception": false,
     "start_time": "2025-02-23T15:10:54.631101",
     "status": "completed"
    },
    "tags": []
   },
   "source": [
    "# Section3.3 线性回归的简单实现\n",
    "动手学机器学习"
   ]
  },
  {
   "cell_type": "code",
   "execution_count": 1,
   "id": "86ddcfe3",
   "metadata": {
    "_cell_guid": "b1076dfc-b9ad-4769-8c92-a6c4dae69d19",
    "_uuid": "8f2839f25d086af736a60e9eeb907d3b93b6e0e5",
    "execution": {
     "iopub.execute_input": "2025-02-23T15:10:54.643834Z",
     "iopub.status.busy": "2025-02-23T15:10:54.643384Z",
     "iopub.status.idle": "2025-02-23T15:10:59.254780Z",
     "shell.execute_reply": "2025-02-23T15:10:59.253575Z"
    },
    "papermill": {
     "duration": 4.617961,
     "end_time": "2025-02-23T15:10:59.256640",
     "exception": false,
     "start_time": "2025-02-23T15:10:54.638679",
     "status": "completed"
    },
    "tags": []
   },
   "outputs": [],
   "source": [
    "import numpy as np\n",
    "import torch\n",
    "from torch.utils import data\n",
    "import matplotlib.pyplot as plt"
   ]
  },
  {
   "cell_type": "code",
   "execution_count": 2,
   "id": "5944e571",
   "metadata": {
    "execution": {
     "iopub.execute_input": "2025-02-23T15:10:59.264789Z",
     "iopub.status.busy": "2025-02-23T15:10:59.264235Z",
     "iopub.status.idle": "2025-02-23T15:10:59.269858Z",
     "shell.execute_reply": "2025-02-23T15:10:59.268588Z"
    },
    "papermill": {
     "duration": 0.012003,
     "end_time": "2025-02-23T15:10:59.272079",
     "exception": false,
     "start_time": "2025-02-23T15:10:59.260076",
     "status": "completed"
    },
    "tags": []
   },
   "outputs": [],
   "source": [
    "def synthetic_data(w, b, num_examples): #@save\n",
    "    X = torch.normal(0, 1, (num_examples, len(w)))\n",
    "    y = torch.matmul(X, w) + b\n",
    "    y += torch.normal(0, 0.01, y.shape)\n",
    "    return X, y.reshape(-1,1)"
   ]
  },
  {
   "cell_type": "code",
   "execution_count": 3,
   "id": "0c0c12f4",
   "metadata": {
    "execution": {
     "iopub.execute_input": "2025-02-23T15:10:59.280276Z",
     "iopub.status.busy": "2025-02-23T15:10:59.279890Z",
     "iopub.status.idle": "2025-02-23T15:10:59.354375Z",
     "shell.execute_reply": "2025-02-23T15:10:59.352801Z"
    },
    "papermill": {
     "duration": 0.080486,
     "end_time": "2025-02-23T15:10:59.356284",
     "exception": false,
     "start_time": "2025-02-23T15:10:59.275798",
     "status": "completed"
    },
    "tags": []
   },
   "outputs": [],
   "source": [
    "true_w = torch.tensor([2, -3.4])\n",
    "true_b = 4.2\n",
    "features, labels = synthetic_data(true_w, true_b, 1000)"
   ]
  },
  {
   "cell_type": "markdown",
   "id": "53eb889f",
   "metadata": {
    "papermill": {
     "duration": 0.002922,
     "end_time": "2025-02-23T15:10:59.362610",
     "exception": false,
     "start_time": "2025-02-23T15:10:59.359688",
     "status": "completed"
    },
    "tags": []
   },
   "source": [
    "**load_array是一个生成DataLoader的函数,而DataLoader用于加载数据**"
   ]
  },
  {
   "cell_type": "code",
   "execution_count": 4,
   "id": "a1d28a29",
   "metadata": {
    "execution": {
     "iopub.execute_input": "2025-02-23T15:10:59.370306Z",
     "iopub.status.busy": "2025-02-23T15:10:59.369912Z",
     "iopub.status.idle": "2025-02-23T15:10:59.374494Z",
     "shell.execute_reply": "2025-02-23T15:10:59.373534Z"
    },
    "papermill": {
     "duration": 0.010438,
     "end_time": "2025-02-23T15:10:59.376244",
     "exception": false,
     "start_time": "2025-02-23T15:10:59.365806",
     "status": "completed"
    },
    "tags": []
   },
   "outputs": [],
   "source": [
    "def load_array(data_arrays, batch_size, is_train = True):\n",
    "    dataset = data.TensorDataset(*data_arrays)\n",
    "    return data.DataLoader(dataset, batch_size, shuffle = is_train)"
   ]
  },
  {
   "cell_type": "markdown",
   "id": "9b4f53a4",
   "metadata": {
    "papermill": {
     "duration": 0.003309,
     "end_time": "2025-02-23T15:10:59.383010",
     "exception": false,
     "start_time": "2025-02-23T15:10:59.379701",
     "status": "completed"
    },
    "tags": []
   },
   "source": [
    "**生成data_iter作为数据加载器**"
   ]
  },
  {
   "cell_type": "code",
   "execution_count": 5,
   "id": "a9bff4eb",
   "metadata": {
    "execution": {
     "iopub.execute_input": "2025-02-23T15:10:59.390855Z",
     "iopub.status.busy": "2025-02-23T15:10:59.390429Z",
     "iopub.status.idle": "2025-02-23T15:10:59.397360Z",
     "shell.execute_reply": "2025-02-23T15:10:59.396031Z"
    },
    "papermill": {
     "duration": 0.013674,
     "end_time": "2025-02-23T15:10:59.399901",
     "exception": false,
     "start_time": "2025-02-23T15:10:59.386227",
     "status": "completed"
    },
    "tags": []
   },
   "outputs": [],
   "source": [
    "batch_size = 10\n",
    "data_iter = load_array((features, labels), batch_size)"
   ]
  },
  {
   "cell_type": "code",
   "execution_count": 6,
   "id": "56b5c25b",
   "metadata": {
    "execution": {
     "iopub.execute_input": "2025-02-23T15:10:59.408067Z",
     "iopub.status.busy": "2025-02-23T15:10:59.407600Z",
     "iopub.status.idle": "2025-02-23T15:10:59.462501Z",
     "shell.execute_reply": "2025-02-23T15:10:59.460765Z"
    },
    "papermill": {
     "duration": 0.061492,
     "end_time": "2025-02-23T15:10:59.464723",
     "exception": false,
     "start_time": "2025-02-23T15:10:59.403231",
     "status": "completed"
    },
    "tags": []
   },
   "outputs": [
    {
     "data": {
      "text/plain": [
       "tensor([0.])"
      ]
     },
     "execution_count": 6,
     "metadata": {},
     "output_type": "execute_result"
    }
   ],
   "source": [
    "from torch import nn\n",
    "net = nn.Sequential(nn.Linear(2,1))\n",
    "# net[0]代表这个Sequential里面的线性层\n",
    "#而net[0].weight和.bias分别代表线性层的权重和偏置\n",
    "net[0].weight.data.normal_(0, 0.01)\n",
    "net[0].bias.data.fill_(0)"
   ]
  },
  {
   "cell_type": "code",
   "execution_count": 7,
   "id": "47d0ef9e",
   "metadata": {
    "execution": {
     "iopub.execute_input": "2025-02-23T15:10:59.477409Z",
     "iopub.status.busy": "2025-02-23T15:10:59.476758Z",
     "iopub.status.idle": "2025-02-23T15:10:59.482301Z",
     "shell.execute_reply": "2025-02-23T15:10:59.480634Z"
    },
    "papermill": {
     "duration": 0.016221,
     "end_time": "2025-02-23T15:10:59.484584",
     "exception": false,
     "start_time": "2025-02-23T15:10:59.468363",
     "status": "completed"
    },
    "tags": []
   },
   "outputs": [],
   "source": [
    "loss = nn.MSELoss()  #MSE误差函数就是L2误差函数"
   ]
  },
  {
   "cell_type": "code",
   "execution_count": 8,
   "id": "fba560f2",
   "metadata": {
    "execution": {
     "iopub.execute_input": "2025-02-23T15:10:59.494885Z",
     "iopub.status.busy": "2025-02-23T15:10:59.494045Z",
     "iopub.status.idle": "2025-02-23T15:11:04.739688Z",
     "shell.execute_reply": "2025-02-23T15:11:04.737537Z"
    },
    "papermill": {
     "duration": 5.253467,
     "end_time": "2025-02-23T15:11:04.742615",
     "exception": false,
     "start_time": "2025-02-23T15:10:59.489148",
     "status": "completed"
    },
    "tags": []
   },
   "outputs": [],
   "source": [
    "#生成一个SGD(随机梯度下降的优化器)net.parameters()可以获取net的全体参数\n",
    "#lr是学习率\n",
    "trainer = torch.optim.SGD(net.parameters(), lr=0.03)"
   ]
  },
  {
   "cell_type": "code",
   "execution_count": 9,
   "id": "1417aba5",
   "metadata": {
    "execution": {
     "iopub.execute_input": "2025-02-23T15:11:04.757302Z",
     "iopub.status.busy": "2025-02-23T15:11:04.756685Z",
     "iopub.status.idle": "2025-02-23T15:11:05.057909Z",
     "shell.execute_reply": "2025-02-23T15:11:05.056569Z"
    },
    "papermill": {
     "duration": 0.311576,
     "end_time": "2025-02-23T15:11:05.059818",
     "exception": false,
     "start_time": "2025-02-23T15:11:04.748242",
     "status": "completed"
    },
    "tags": []
   },
   "outputs": [
    {
     "name": "stdout",
     "output_type": "stream",
     "text": [
      "epoch 1, loss 0.000290\n",
      "epoch 2, loss 0.000102\n",
      "epoch 3, loss 0.000102\n"
     ]
    }
   ],
   "source": [
    "num_epochs = 3\n",
    "for epoch in range(num_epochs):\n",
    "    for X, y in data_iter: #加载数据\n",
    "        l = loss(net(X), y) #计算误差\n",
    "        trainer.zero_grad() #梯度置零   no_grad()才是禁用梯度\n",
    "        l.backward()\n",
    "        trainer.step()\n",
    "    l = loss(net(features), labels)\n",
    "    print(f'epoch {epoch + 1}, loss {l:f}')"
   ]
  }
 ],
 "metadata": {
  "kaggle": {
   "accelerator": "none",
   "dataSources": [],
   "dockerImageVersionId": 30918,
   "isGpuEnabled": false,
   "isInternetEnabled": false,
   "language": "python",
   "sourceType": "notebook"
  },
  "kernelspec": {
   "display_name": "Python 3",
   "language": "python",
   "name": "python3"
  },
  "language_info": {
   "codemirror_mode": {
    "name": "ipython",
    "version": 3
   },
   "file_extension": ".py",
   "mimetype": "text/x-python",
   "name": "python",
   "nbconvert_exporter": "python",
   "pygments_lexer": "ipython3",
   "version": "3.10.12"
  },
  "papermill": {
   "default_parameters": {},
   "duration": 15.207734,
   "end_time": "2025-02-23T15:11:06.790286",
   "environment_variables": {},
   "exception": null,
   "input_path": "__notebook__.ipynb",
   "output_path": "__notebook__.ipynb",
   "parameters": {},
   "start_time": "2025-02-23T15:10:51.582552",
   "version": "2.6.0"
  }
 },
 "nbformat": 4,
 "nbformat_minor": 5
}
